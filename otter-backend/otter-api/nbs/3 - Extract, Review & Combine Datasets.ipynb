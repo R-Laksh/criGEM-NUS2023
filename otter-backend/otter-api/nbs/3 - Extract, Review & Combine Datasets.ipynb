{
 "cells": [
  {
   "cell_type": "code",
   "execution_count": 1,
   "id": "ee2d5e5f-28e8-4608-9593-dba231132009",
   "metadata": {},
   "outputs": [],
   "source": [
    "import pathlib\n",
    "import zipfile\n",
    "import requests\n",
    "\n",
    "BASE_DIR = pathlib.Path().resolve().parent\n",
    "DATASET_DIR = BASE_DIR / \"datasets\"\n",
    "EXPORT_DIR = DATASET_DIR / \"exports\"\n",
    "EXPORT_DIR.mkdir(exist_ok=True, parents=True)\n",
    "OTTER_DATASET_PATH = EXPORT_DIR / \"otterDUMMY-dataset.csv\"\n",
    "\n",
    "ZIPS_DIR = DATASET_DIR / \"zips\"\n",
    "ZIPS_DIR.mkdir(exist_ok=True, parents=True)\n",
    "\n",
    "OTTER1_ZIP_PATH = ZIPS_DIR / \"otter1DUMMY-dataset.zip\"\n",
    "OTTER2_ZIP_PATH = ZIPS_DIR / \"otter2DUMMY-dataset.zip\""
   ]
  },
  {
   "cell_type": "code",
   "execution_count": 2,
   "id": "94810f73-060c-442c-bb93-c984ba9fddb7",
   "metadata": {},
   "outputs": [],
   "source": [
    "OTTER1_ZIP = \"https://archive.ics.uci.edu/static/public/228/sms+spam+collection.zip\" \n",
    "OTTER2_ZIP = \"https://archive.ics.uci.edu/static/public/380/youtube+spam+collection.zip\""
   ]
  },
  {
   "cell_type": "code",
   "execution_count": 3,
   "id": "9f837eec-0b0a-4d55-b355-2bbd1c98a1d5",
   "metadata": {},
   "outputs": [
    {
     "name": "stderr",
     "output_type": "stream",
     "text": [
      "  % Total    % Received % Xferd  Average Speed   Time    Time     Time  Current\n",
      "                                 Dload  Upload   Total   Spent    Left  Speed\n",
      "\n",
      "  0     0    0     0    0     0      0      0 --:--:-- --:--:-- --:--:--     0\n",
      "100 16309    0 16309    0     0  20400      0 --:--:-- --:--:-- --:--:-- 20437\n",
      "100  198k    0  198k    0     0   104k      0 --:--:--  0:00:01 --:--:--  104k\n",
      "100  198k    0  198k    0     0   104k      0 --:--:--  0:00:01 --:--:--  104k\n",
      "  % Total    % Received % Xferd  Average Speed   Time    Time     Time  Current\n",
      "                                 Dload  Upload   Total   Spent    Left  Speed\n",
      "\n",
      "  0     0    0     0    0     0      0      0 --:--:-- --:--:-- --:--:--     0\n",
      "100 57269    0 57269    0     0  61634      0 --:--:-- --:--:-- --:--:-- 61712\n",
      "100  159k    0  159k    0     0  99105      0 --:--:--  0:00:01 --:--:-- 99191\n"
     ]
    }
   ],
   "source": [
    "!curl $OTTER1_ZIP -o $OTTER1_ZIP_PATH\n",
    "!curl $OTTER2_ZIP -o $OTTER2_ZIP_PATH"
   ]
  },
  {
   "cell_type": "code",
   "execution_count": 4,
   "id": "04b3cff3-831d-4e97-921b-50d43796bb2b",
   "metadata": {},
   "outputs": [],
   "source": [
    "response1 = requests.get(OTTER1_ZIP)\n",
    "with open(OTTER1_ZIP_PATH, 'wb') as f:\n",
    "    f.write(response1.content)\n",
    "\n",
    "response2 = requests.get(OTTER2_ZIP)\n",
    "with open(OTTER2_ZIP_PATH, 'wb') as f:\n",
    "    f.write(response2.content)\n",
    "\n",
    "INPUT_CLASSIFIER_DIR = DATASET_DIR / 'input-classifier'\n",
    "OTTER1_DIR = INPUT_CLASSIFIER_DIR / 'otter1'\n",
    "OTTER2_DIR = INPUT_CLASSIFIER_DIR / 'otter2'\n",
    "\n",
    "OTTER1_DIR.mkdir(exist_ok=True, parents=True)\n",
    "OTTER2_DIR.mkdir(exist_ok=True, parents=True)"
   ]
  },
  {
   "cell_type": "code",
   "execution_count": 5,
   "id": "14d98775",
   "metadata": {},
   "outputs": [],
   "source": [
    "with zipfile.ZipFile(OTTER1_ZIP_PATH, 'r') as zip_ref:\n",
    "    zip_ref.extractall(OTTER1_DIR)\n",
    "\n",
    "with zipfile.ZipFile(OTTER2_ZIP_PATH, 'r') as zip_ref:\n",
    "    zip_ref.extractall(OTTER2_DIR)\n"
   ]
  },
  {
   "cell_type": "code",
   "execution_count": 6,
   "id": "6f5640d7",
   "metadata": {},
   "outputs": [],
   "source": [
    "otter1_input_path = OTTER1_DIR / \"SMSSpamCollection\" # tsv\n",
    "# otter1_input_path.read_text()"
   ]
  },
  {
   "cell_type": "code",
   "execution_count": 7,
   "id": "f5b28c05",
   "metadata": {},
   "outputs": [
    {
     "name": "stdout",
     "output_type": "stream",
     "text": [
      "C:\\Users\\syxrw\\Documents\\TeamProjects\\iGEM\\criGEM-NUS2023\\otter-backend\\otter-api\\datasets\\input-classifier\\otter2\\Youtube01-Psy.csv\n",
      "C:\\Users\\syxrw\\Documents\\TeamProjects\\iGEM\\criGEM-NUS2023\\otter-backend\\otter-api\\datasets\\input-classifier\\otter2\\Youtube02-KatyPerry.csv\n",
      "C:\\Users\\syxrw\\Documents\\TeamProjects\\iGEM\\criGEM-NUS2023\\otter-backend\\otter-api\\datasets\\input-classifier\\otter2\\Youtube03-LMFAO.csv\n",
      "C:\\Users\\syxrw\\Documents\\TeamProjects\\iGEM\\criGEM-NUS2023\\otter-backend\\otter-api\\datasets\\input-classifier\\otter2\\Youtube04-Eminem.csv\n",
      "C:\\Users\\syxrw\\Documents\\TeamProjects\\iGEM\\criGEM-NUS2023\\otter-backend\\otter-api\\datasets\\input-classifier\\otter2\\Youtube05-Shakira.csv\n",
      "C:\\Users\\syxrw\\Documents\\TeamProjects\\iGEM\\criGEM-NUS2023\\otter-backend\\otter-api\\datasets\\input-classifier\\otter2\\__MACOSX\n"
     ]
    }
   ],
   "source": [
    "for path in OTTER2_DIR.glob(\"*\"):\n",
    "    print(path)"
   ]
  },
  {
   "cell_type": "code",
   "execution_count": 8,
   "id": "9334d76c",
   "metadata": {},
   "outputs": [],
   "source": [
    "import pandas as pd"
   ]
  },
  {
   "cell_type": "code",
   "execution_count": 9,
   "id": "457a0b91",
   "metadata": {},
   "outputs": [
    {
     "data": {
      "text/html": [
       "<div>\n",
       "<style scoped>\n",
       "    .dataframe tbody tr th:only-of-type {\n",
       "        vertical-align: middle;\n",
       "    }\n",
       "\n",
       "    .dataframe tbody tr th {\n",
       "        vertical-align: top;\n",
       "    }\n",
       "\n",
       "    .dataframe thead th {\n",
       "        text-align: right;\n",
       "    }\n",
       "</style>\n",
       "<table border=\"1\" class=\"dataframe\">\n",
       "  <thead>\n",
       "    <tr style=\"text-align: right;\">\n",
       "      <th></th>\n",
       "      <th>label</th>\n",
       "      <th>text</th>\n",
       "      <th>source</th>\n",
       "    </tr>\n",
       "  </thead>\n",
       "  <tbody>\n",
       "    <tr>\n",
       "      <th>5567</th>\n",
       "      <td>spam</td>\n",
       "      <td>This is the 2nd time we have tried 2 contact u...</td>\n",
       "      <td>otter-1</td>\n",
       "    </tr>\n",
       "    <tr>\n",
       "      <th>5568</th>\n",
       "      <td>ham</td>\n",
       "      <td>Will ü b going to esplanade fr home?</td>\n",
       "      <td>otter-1</td>\n",
       "    </tr>\n",
       "    <tr>\n",
       "      <th>5569</th>\n",
       "      <td>ham</td>\n",
       "      <td>Pity, * was in mood for that. So...any other s...</td>\n",
       "      <td>otter-1</td>\n",
       "    </tr>\n",
       "    <tr>\n",
       "      <th>5570</th>\n",
       "      <td>ham</td>\n",
       "      <td>The guy did some bitching but I acted like i'd...</td>\n",
       "      <td>otter-1</td>\n",
       "    </tr>\n",
       "    <tr>\n",
       "      <th>5571</th>\n",
       "      <td>ham</td>\n",
       "      <td>Rofl. Its true to its name</td>\n",
       "      <td>otter-1</td>\n",
       "    </tr>\n",
       "  </tbody>\n",
       "</table>\n",
       "</div>"
      ],
      "text/plain": [
       "     label                                               text   source\n",
       "5567  spam  This is the 2nd time we have tried 2 contact u...  otter-1\n",
       "5568   ham               Will ü b going to esplanade fr home?  otter-1\n",
       "5569   ham  Pity, * was in mood for that. So...any other s...  otter-1\n",
       "5570   ham  The guy did some bitching but I acted like i'd...  otter-1\n",
       "5571   ham                         Rofl. Its true to its name  otter-1"
      ]
     },
     "execution_count": 9,
     "metadata": {},
     "output_type": "execute_result"
    }
   ],
   "source": [
    "otter1_input_path = OTTER1_DIR / \"SMSSpamCollection\"\n",
    "otter1_df = pd.read_csv(otter1_input_path, sep='\\t', header=None)\n",
    "otter1_df.columns = ['label', 'text']\n",
    "otter1_df['source'] = 'otter-1'\n",
    "otter1_df.tail()"
   ]
  },
  {
   "cell_type": "code",
   "execution_count": 10,
   "id": "08fdba4e",
   "metadata": {},
   "outputs": [
    {
     "data": {
      "text/plain": [
       "True"
      ]
     },
     "execution_count": 10,
     "metadata": {},
     "output_type": "execute_result"
    }
   ],
   "source": [
    "1 == True"
   ]
  },
  {
   "cell_type": "code",
   "execution_count": 12,
   "id": "2af25a4c",
   "metadata": {},
   "outputs": [],
   "source": [
    "otter2_dfs = []\n",
    "for path in OTTER2_DIR.glob(\"*\"):\n",
    "    raw_df = pd.read_csv(path)\n",
    "    raw_df.rename(columns={\"CLASS\": 'raw_label',\"CONTENT\": \"text\"}, inplace=True)\n",
    "    raw_df['label'] = raw_df['raw_label'].apply(lambda x: \"spam\" if str(x) == \"1\" else \"ham\")\n",
    "    raw_df['raw_source'] = str(path.name)\n",
    "    raw_df['source'] = 'otter-2'\n",
    "    df = raw_df.copy()[['label', 'text', 'source']]\n",
    "    otter2_dfs.append(df)\n",
    "    # print(df.head())\n",
    "\n",
    "otter2_df = pd.concat(otter2_dfs)"
   ]
  },
  {
   "cell_type": "code",
   "execution_count": 13,
   "id": "3977a410",
   "metadata": {},
   "outputs": [
    {
     "data": {
      "text/html": [
       "<div>\n",
       "<style scoped>\n",
       "    .dataframe tbody tr th:only-of-type {\n",
       "        vertical-align: middle;\n",
       "    }\n",
       "\n",
       "    .dataframe tbody tr th {\n",
       "        vertical-align: top;\n",
       "    }\n",
       "\n",
       "    .dataframe thead th {\n",
       "        text-align: right;\n",
       "    }\n",
       "</style>\n",
       "<table border=\"1\" class=\"dataframe\">\n",
       "  <thead>\n",
       "    <tr style=\"text-align: right;\">\n",
       "      <th></th>\n",
       "      <th>label</th>\n",
       "      <th>text</th>\n",
       "      <th>source</th>\n",
       "    </tr>\n",
       "  </thead>\n",
       "  <tbody>\n",
       "    <tr>\n",
       "      <th>0</th>\n",
       "      <td>spam</td>\n",
       "      <td>Huh, anyway check out this you[tube] channel: ...</td>\n",
       "      <td>otter-2</td>\n",
       "    </tr>\n",
       "    <tr>\n",
       "      <th>1</th>\n",
       "      <td>spam</td>\n",
       "      <td>Hey guys check out my new channel and our firs...</td>\n",
       "      <td>otter-2</td>\n",
       "    </tr>\n",
       "    <tr>\n",
       "      <th>2</th>\n",
       "      <td>spam</td>\n",
       "      <td>just for test I have to say murdev.com</td>\n",
       "      <td>otter-2</td>\n",
       "    </tr>\n",
       "    <tr>\n",
       "      <th>3</th>\n",
       "      <td>spam</td>\n",
       "      <td>me shaking my sexy ass on my channel enjoy ^_^ ﻿</td>\n",
       "      <td>otter-2</td>\n",
       "    </tr>\n",
       "    <tr>\n",
       "      <th>4</th>\n",
       "      <td>spam</td>\n",
       "      <td>watch?v=vtaRGgvGtWQ   Check this out .﻿</td>\n",
       "      <td>otter-2</td>\n",
       "    </tr>\n",
       "  </tbody>\n",
       "</table>\n",
       "</div>"
      ],
      "text/plain": [
       "  label                                               text   source\n",
       "0  spam  Huh, anyway check out this you[tube] channel: ...  otter-2\n",
       "1  spam  Hey guys check out my new channel and our firs...  otter-2\n",
       "2  spam             just for test I have to say murdev.com  otter-2\n",
       "3  spam   me shaking my sexy ass on my channel enjoy ^_^ ﻿  otter-2\n",
       "4  spam            watch?v=vtaRGgvGtWQ   Check this out .﻿  otter-2"
      ]
     },
     "execution_count": 13,
     "metadata": {},
     "output_type": "execute_result"
    }
   ],
   "source": [
    "otter2_df.head()"
   ]
  },
  {
   "cell_type": "code",
   "execution_count": 14,
   "id": "a71b061e",
   "metadata": {},
   "outputs": [
    {
     "data": {
      "text/html": [
       "<div>\n",
       "<style scoped>\n",
       "    .dataframe tbody tr th:only-of-type {\n",
       "        vertical-align: middle;\n",
       "    }\n",
       "\n",
       "    .dataframe tbody tr th {\n",
       "        vertical-align: top;\n",
       "    }\n",
       "\n",
       "    .dataframe thead th {\n",
       "        text-align: right;\n",
       "    }\n",
       "</style>\n",
       "<table border=\"1\" class=\"dataframe\">\n",
       "  <thead>\n",
       "    <tr style=\"text-align: right;\">\n",
       "      <th></th>\n",
       "      <th>label</th>\n",
       "      <th>text</th>\n",
       "      <th>source</th>\n",
       "    </tr>\n",
       "  </thead>\n",
       "  <tbody>\n",
       "    <tr>\n",
       "      <th>0</th>\n",
       "      <td>ham</td>\n",
       "      <td>Go until jurong point, crazy.. Available only ...</td>\n",
       "      <td>otter-1</td>\n",
       "    </tr>\n",
       "    <tr>\n",
       "      <th>1</th>\n",
       "      <td>ham</td>\n",
       "      <td>Ok lar... Joking wif u oni...</td>\n",
       "      <td>otter-1</td>\n",
       "    </tr>\n",
       "    <tr>\n",
       "      <th>2</th>\n",
       "      <td>spam</td>\n",
       "      <td>Free entry in 2 a wkly comp to win FA Cup fina...</td>\n",
       "      <td>otter-1</td>\n",
       "    </tr>\n",
       "    <tr>\n",
       "      <th>3</th>\n",
       "      <td>ham</td>\n",
       "      <td>U dun say so early hor... U c already then say...</td>\n",
       "      <td>otter-1</td>\n",
       "    </tr>\n",
       "    <tr>\n",
       "      <th>4</th>\n",
       "      <td>ham</td>\n",
       "      <td>Nah I don't think he goes to usf, he lives aro...</td>\n",
       "      <td>otter-1</td>\n",
       "    </tr>\n",
       "  </tbody>\n",
       "</table>\n",
       "</div>"
      ],
      "text/plain": [
       "  label                                               text   source\n",
       "0   ham  Go until jurong point, crazy.. Available only ...  otter-1\n",
       "1   ham                      Ok lar... Joking wif u oni...  otter-1\n",
       "2  spam  Free entry in 2 a wkly comp to win FA Cup fina...  otter-1\n",
       "3   ham  U dun say so early hor... U c already then say...  otter-1\n",
       "4   ham  Nah I don't think he goes to usf, he lives aro...  otter-1"
      ]
     },
     "execution_count": 14,
     "metadata": {},
     "output_type": "execute_result"
    }
   ],
   "source": [
    "df = pd.concat([otter1_df, otter2_df])\n",
    "df.head()"
   ]
  },
  {
   "cell_type": "code",
   "execution_count": null,
   "id": "ade3bc48",
   "metadata": {},
   "outputs": [],
   "source": [
    "df.to_csv(OTTER_DATASET_PATH, index=False)"
   ]
  },
  {
   "cell_type": "code",
   "execution_count": null,
   "id": "1cc8022e",
   "metadata": {},
   "outputs": [],
   "source": []
  }
 ],
 "metadata": {
  "kernelspec": {
   "display_name": "Python 3 (ipykernel)",
   "language": "python",
   "name": "python3"
  },
  "language_info": {
   "codemirror_mode": {
    "name": "ipython",
    "version": 3
   },
   "file_extension": ".py",
   "mimetype": "text/x-python",
   "name": "python",
   "nbconvert_exporter": "python",
   "pygments_lexer": "ipython3",
   "version": "3.9.9"
  }
 },
 "nbformat": 4,
 "nbformat_minor": 5
}
