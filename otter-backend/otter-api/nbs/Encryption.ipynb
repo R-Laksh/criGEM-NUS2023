{
 "cells": [
  {
   "cell_type": "code",
   "execution_count": 1,
   "metadata": {},
   "outputs": [
    {
     "name": "stdout",
     "output_type": "stream",
     "text": [
      "Requirement already satisfied: cryptography in c:\\users\\syxrw\\documents\\teamprojects\\igem\\crigem-nus2023\\otter-backend\\otter-api\\lib\\site-packages (41.0.3)\n",
      "Requirement already satisfied: cffi>=1.12 in c:\\users\\syxrw\\documents\\teamprojects\\igem\\crigem-nus2023\\otter-backend\\otter-api\\lib\\site-packages (from cryptography) (1.15.1)\n",
      "Requirement already satisfied: pycparser in c:\\users\\syxrw\\documents\\teamprojects\\igem\\crigem-nus2023\\otter-backend\\otter-api\\lib\\site-packages (from cffi>=1.12->cryptography) (2.21)\n",
      "Note: you may need to restart the kernel to use updated packages.\n"
     ]
    },
    {
     "name": "stderr",
     "output_type": "stream",
     "text": [
      "WARNING: You are using pip version 21.2.4; however, version 23.2.1 is available.\n",
      "You should consider upgrading via the 'c:\\Users\\syxrw\\Documents\\TeamProjects\\iGEM\\criGEM-NUS2023\\otter-backend\\otter-api\\Scripts\\python.exe -m pip install --upgrade pip' command.\n"
     ]
    }
   ],
   "source": [
    "%pip install cryptography"
   ]
  },
  {
   "cell_type": "code",
   "execution_count": 2,
   "metadata": {},
   "outputs": [],
   "source": [
    "from cryptography.fernet import Fernet"
   ]
  },
  {
   "cell_type": "code",
   "execution_count": 3,
   "metadata": {},
   "outputs": [],
   "source": [
    "key = Fernet.generate_key().decode(\"UTF-8\")"
   ]
  },
  {
   "cell_type": "code",
   "execution_count": 4,
   "metadata": {},
   "outputs": [],
   "source": [
    "import pathlib"
   ]
  },
  {
   "cell_type": "code",
   "execution_count": 5,
   "metadata": {},
   "outputs": [
    {
     "data": {
      "text/plain": [
       "True"
      ]
     },
     "execution_count": 5,
     "metadata": {},
     "output_type": "execute_result"
    }
   ],
   "source": [
    "BASE_DIR = pathlib.Path(\".\").resolve().parent\n",
    "BASE_DIR.exists()"
   ]
  },
  {
   "cell_type": "code",
   "execution_count": 6,
   "metadata": {},
   "outputs": [
    {
     "data": {
      "text/plain": [
       "True"
      ]
     },
     "execution_count": 6,
     "metadata": {},
     "output_type": "execute_result"
    }
   ],
   "source": [
    "APP_DIR = BASE_DIR / \"app\"\n",
    "APP_DIR.exists()"
   ]
  },
  {
   "cell_type": "code",
   "execution_count": 7,
   "metadata": {},
   "outputs": [],
   "source": [
    "IGNORED_DIR = APP_DIR / \"ignored\"\n",
    "SECURE_DIR = APP_DIR / \"encrypted\"\n",
    "DECRYPTED_DIR = APP_DIR / \"decrypted\"\n",
    "SECURE_DIR.mkdir(exist_ok=True, parents=True)\n",
    "DECRYPTED_DIR.mkdir(exist_ok=True, parents=True)"
   ]
  },
  {
   "cell_type": "code",
   "execution_count": 8,
   "metadata": {},
   "outputs": [],
   "source": [
    "fer = Fernet(key) # f\"{}:\""
   ]
  },
  {
   "cell_type": "code",
   "execution_count": 9,
   "metadata": {},
   "outputs": [],
   "source": [
    "for path in IGNORED_DIR.glob(\"*\"):\n",
    "    _path_bytes = path.read_bytes() # open(filepath, 'rb')\n",
    "    data = fer.encrypt(_path_bytes)\n",
    "\n",
    "    rel_path = path.relative_to(IGNORED_DIR)\n",
    "    dest_path = SECURE_DIR / rel_path\n",
    "    dest_path.write_bytes(data)"
   ]
  },
  {
   "cell_type": "code",
   "execution_count": 10,
   "metadata": {},
   "outputs": [],
   "source": [
    "for path in SECURE_DIR.glob(\"*\"):\n",
    "    _path_bytes = path.read_bytes() # open(filepath, 'rb')\n",
    "    data = fer.decrypt(_path_bytes)\n",
    "    rel_path = path.relative_to(SECURE_DIR)\n",
    "    dest_path = DECRYPTED_DIR / rel_path\n",
    "    dest_path.write_bytes(data)"
   ]
  },
  {
   "cell_type": "code",
   "execution_count": null,
   "metadata": {},
   "outputs": [],
   "source": []
  }
 ],
 "metadata": {
  "kernelspec": {
   "display_name": "otter-api",
   "language": "python",
   "name": "python3"
  },
  "language_info": {
   "codemirror_mode": {
    "name": "ipython",
    "version": 3
   },
   "file_extension": ".py",
   "mimetype": "text/x-python",
   "name": "python",
   "nbconvert_exporter": "python",
   "pygments_lexer": "ipython3",
   "version": "3.9.9"
  },
  "orig_nbformat": 4
 },
 "nbformat": 4,
 "nbformat_minor": 2
}
