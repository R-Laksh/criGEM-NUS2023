{
 "cells": [
  {
   "cell_type": "code",
   "execution_count": 1,
   "id": "ee2d5e5f-28e8-4608-9593-dba231132009",
   "metadata": {},
   "outputs": [],
   "source": [
    "import pathlib\n",
    "\n",
    "BASE_DIR = pathlib.Path().resolve().parent\n",
    "DATASET_DIR = BASE_DIR / \"datasets\"\n",
    "ZIPS_DIR = DATASET_DIR / \"zips\"\n",
    "ZIPS_DIR.mkdir(exist_ok=True, parents=True)\n",
    "\n",
    "OTTER1_ZIP_PATH = ZIPS_DIR / \"otter1DUMMY-dataset.zip\"\n",
    "OTTER2_ZIP_PATH = ZIPS_DIR / \"otter2DUMMY-dataset.zip\""
   ]
  },
  {
   "cell_type": "code",
   "execution_count": 2,
   "id": "94810f73-060c-442c-bb93-c984ba9fddb7",
   "metadata": {},
   "outputs": [],
   "source": [
    "OTTER1_ZIP = \"https://archive.ics.uci.edu/static/public/228/sms+spam+collection.zip\" \n",
    "OTTER2_ZIP = \"https://archive.ics.uci.edu/static/public/380/youtube+spam+collection.zip\""
   ]
  },
  {
   "cell_type": "code",
   "execution_count": 3,
   "id": "9f837eec-0b0a-4d55-b355-2bbd1c98a1d5",
   "metadata": {},
   "outputs": [
    {
     "name": "stderr",
     "output_type": "stream",
     "text": [
      "  % Total    % Received % Xferd  Average Speed   Time    Time     Time  Current\n",
      "                                 Dload  Upload   Total   Spent    Left  Speed\n",
      "\n",
      "  0     0    0     0    0     0      0      0 --:--:-- --:--:-- --:--:--     0\n",
      "  0     0    0     0    0     0      0      0 --:--:-- --:--:-- --:--:--     0\n",
      "100 77749    0 77749    0     0  68748      0 --:--:--  0:00:01 --:--:-- 68804\n",
      "100  198k    0  198k    0     0   115k      0 --:--:--  0:00:01 --:--:--  115k\n",
      "  % Total    % Received % Xferd  Average Speed   Time    Time     Time  Current\n",
      "                                 Dload  Upload   Total   Spent    Left  Speed\n",
      "\n",
      "  0     0    0     0    0     0      0      0 --:--:-- --:--:-- --:--:--     0\n",
      "  0     0    0     0    0     0      0      0 --:--:-- --:--:-- --:--:--     0\n",
      "100  143k    0  143k    0     0   111k      0 --:--:--  0:00:01 --:--:--  111k\n",
      "100  159k    0  159k    0     0   107k      0 --:--:--  0:00:01 --:--:--  107k\n"
     ]
    }
   ],
   "source": [
    "!curl $OTTER1_ZIP -o $OTTER1_ZIP_PATH\n",
    "!curl $OTTER2_ZIP -o $OTTER2_ZIP_PATH"
   ]
  },
  {
   "cell_type": "code",
   "execution_count": null,
   "id": "04b3cff3-831d-4e97-921b-50d43796bb2b",
   "metadata": {},
   "outputs": [],
   "source": []
  }
 ],
 "metadata": {
  "kernelspec": {
   "display_name": "Python 3 (ipykernel)",
   "language": "python",
   "name": "python3"
  },
  "language_info": {
   "codemirror_mode": {
    "name": "ipython",
    "version": 3
   },
   "file_extension": ".py",
   "mimetype": "text/x-python",
   "name": "python",
   "nbconvert_exporter": "python",
   "pygments_lexer": "ipython3",
   "version": "3.9.9"
  }
 },
 "nbformat": 4,
 "nbformat_minor": 5
}
