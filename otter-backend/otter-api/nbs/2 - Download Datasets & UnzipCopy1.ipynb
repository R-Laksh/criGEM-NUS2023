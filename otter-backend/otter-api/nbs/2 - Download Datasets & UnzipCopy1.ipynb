{
 "cells": [
  {
   "cell_type": "code",
   "execution_count": 1,
   "id": "ee2d5e5f-28e8-4608-9593-dba231132009",
   "metadata": {},
   "outputs": [],
   "source": [
    "import pathlib\n",
    "import zipfile\n",
    "import requests\n",
    "\n",
    "BASE_DIR = pathlib.Path().resolve().parent\n",
    "DATASET_DIR = BASE_DIR / \"datasets\"\n",
    "ZIPS_DIR = DATASET_DIR / \"zips\"\n",
    "ZIPS_DIR.mkdir(exist_ok=True, parents=True)\n",
    "\n",
    "OTTER1_ZIP_PATH = ZIPS_DIR / \"otter1DUMMY-dataset.zip\"\n",
    "OTTER2_ZIP_PATH = ZIPS_DIR / \"otter2DUMMY-dataset.zip\""
   ]
  },
  {
   "cell_type": "code",
   "execution_count": 2,
   "id": "94810f73-060c-442c-bb93-c984ba9fddb7",
   "metadata": {},
   "outputs": [],
   "source": [
    "OTTER1_ZIP = \"https://archive.ics.uci.edu/static/public/228/sms+spam+collection.zip\" \n",
    "OTTER2_ZIP = \"https://archive.ics.uci.edu/static/public/380/youtube+spam+collection.zip\""
   ]
  },
  {
   "cell_type": "code",
   "execution_count": 3,
   "id": "9f837eec-0b0a-4d55-b355-2bbd1c98a1d5",
   "metadata": {},
   "outputs": [
    {
     "name": "stderr",
     "output_type": "stream",
     "text": [
      "  % Total    % Received % Xferd  Average Speed   Time    Time     Time  Current\n",
      "                                 Dload  Upload   Total   Spent    Left  Speed\n",
      "\n",
      "  0     0    0     0    0     0      0      0 --:--:-- --:--:-- --:--:--     0\n",
      "  0     0    0     0    0     0      0      0 --:--:-- --:--:-- --:--:--     0\n",
      "100  147k    0  147k    0     0    98k      0 --:--:--  0:00:01 --:--:--   99k\n",
      "100  198k    0  198k    0     0   117k      0 --:--:--  0:00:01 --:--:--  117k\n",
      "  % Total    % Received % Xferd  Average Speed   Time    Time     Time  Current\n",
      "                                 Dload  Upload   Total   Spent    Left  Speed\n",
      "\n",
      "  0     0    0     0    0     0      0      0 --:--:-- --:--:-- --:--:--     0\n",
      "100 16309    0 16309    0     0  21591      0 --:--:-- --:--:-- --:--:-- 21629\n",
      "100  159k    0  159k    0     0   106k      0 --:--:--  0:00:01 --:--:--  106k\n"
     ]
    }
   ],
   "source": [
    "!curl $OTTER1_ZIP -o $OTTER1_ZIP_PATH\n",
    "!curl $OTTER2_ZIP -o $OTTER2_ZIP_PATH"
   ]
  },
  {
   "cell_type": "code",
   "execution_count": 4,
   "id": "04b3cff3-831d-4e97-921b-50d43796bb2b",
   "metadata": {},
   "outputs": [],
   "source": [
    "response1 = requests.get(OTTER1_ZIP)\n",
    "with open(OTTER1_ZIP_PATH, 'wb') as f:\n",
    "    f.write(response1.content)\n",
    "\n",
    "response2 = requests.get(OTTER2_ZIP)\n",
    "with open(OTTER2_ZIP_PATH, 'wb') as f:\n",
    "    f.write(response2.content)\n",
    "\n",
    "INPUT_CLASSIFIER_DIR = DATASET_DIR / 'input-classifier'\n",
    "OTTER1_DIR = INPUT_CLASSIFIER_DIR / 'otter1'\n",
    "OTTER2_DIR = INPUT_CLASSIFIER_DIR / 'otter2'\n",
    "\n",
    "OTTER1_DIR.mkdir(exist_ok=True, parents=True)\n",
    "OTTER2_DIR.mkdir(exist_ok=True, parents=True)"
   ]
  },
  {
   "cell_type": "code",
   "execution_count": 5,
   "id": "14d98775",
   "metadata": {},
   "outputs": [],
   "source": [
    "with zipfile.ZipFile(OTTER1_ZIP_PATH, 'r') as zip_ref:\n",
    "    zip_ref.extractall(OTTER1_DIR)\n",
    "\n",
    "with zipfile.ZipFile(OTTER2_ZIP_PATH, 'r') as zip_ref:\n",
    "    zip_ref.extractall(OTTER2_DIR)\n"
   ]
  },
  {
   "cell_type": "code",
   "execution_count": null,
   "id": "6f5640d7",
   "metadata": {},
   "outputs": [],
   "source": []
  }
 ],
 "metadata": {
  "kernelspec": {
   "display_name": "Python 3 (ipykernel)",
   "language": "python",
   "name": "python3"
  },
  "language_info": {
   "codemirror_mode": {
    "name": "ipython",
    "version": 3
   },
   "file_extension": ".py",
   "mimetype": "text/x-python",
   "name": "python",
   "nbconvert_exporter": "python",
   "pygments_lexer": "ipython3",
   "version": "3.9.9"
  }
 },
 "nbformat": 4,
 "nbformat_minor": 5
}
